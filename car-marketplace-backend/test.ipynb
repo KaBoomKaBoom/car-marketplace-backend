{
 "cells": [
  {
   "cell_type": "code",
   "execution_count": 3,
   "id": "aca8c143",
   "metadata": {},
   "outputs": [
    {
     "name": "stdout",
     "output_type": "stream",
     "text": [
      "Successfully removed Rating field from 57 objects and saved to output_cars_no_rating.json\n"
     ]
    }
   ],
   "source": [
    "import json\n",
    "\n",
    "def remove_rating(json_data):\n",
    "    # Process all objects in the array\n",
    "    converted_data = [remove_rating_from_object(item) for item in json_data]\n",
    "    \n",
    "    return converted_data\n",
    "\n",
    "def remove_rating_from_object(item):\n",
    "    # Create a copy of the input item\n",
    "    converted_item = item.copy()\n",
    "    \n",
    "    # Remove the Rating field if it exists\n",
    "    if 'Rating' in converted_item:\n",
    "        del converted_item['Rating']\n",
    "    \n",
    "    return converted_item\n",
    "\n",
    "def process_json_file(input_file, output_file):\n",
    "    try:\n",
    "        # Read JSON file\n",
    "        with open(input_file, 'r') as f:\n",
    "            data = json.load(f)\n",
    "        \n",
    "        if not isinstance(data, list):\n",
    "            raise ValueError(\"Input JSON must be an array of objects\")\n",
    "        \n",
    "        # Remove Rating field from all objects\n",
    "        converted_data = remove_rating(data)\n",
    "        \n",
    "        # Save converted data to output file\n",
    "        with open(output_file, 'w') as f:\n",
    "            json.dump(converted_data, f, indent=2)\n",
    "        \n",
    "        print(f\"Successfully removed Rating field from {len(converted_data)} objects and saved to {output_file}\")\n",
    "    \n",
    "    except FileNotFoundError:\n",
    "        print(f\"Error: Input file '{input_file}' not found\")\n",
    "    except json.JSONDecodeError:\n",
    "        print(f\"Error: Invalid JSON format in '{input_file}'\")\n",
    "    except ValueError as ve:\n",
    "        print(f\"Error: {str(ve)}\")\n",
    "    except Exception as e:\n",
    "        print(f\"Error: {str(e)}\")\n",
    "\n",
    "# Example usage\n",
    "if __name__ == \"__main__\":\n",
    "    # Replace with your actual input and output file paths\n",
    "    input_file = \"cars.json\"\n",
    "    output_file = \"output_cars_no_rating.json\"\n",
    "    \n",
    "    # Process the JSON file\n",
    "    process_json_file(input_file, output_file)"
   ]
  }
 ],
 "metadata": {
  "kernelspec": {
   "display_name": "Python 3",
   "language": "python",
   "name": "python3"
  },
  "language_info": {
   "codemirror_mode": {
    "name": "ipython",
    "version": 3
   },
   "file_extension": ".py",
   "mimetype": "text/x-python",
   "name": "python",
   "nbconvert_exporter": "python",
   "pygments_lexer": "ipython3",
   "version": "3.13.0"
  }
 },
 "nbformat": 4,
 "nbformat_minor": 5
}
